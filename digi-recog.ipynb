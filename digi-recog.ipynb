{
  "nbformat": 4,
  "nbformat_minor": 0,
  "metadata": {
    "colab": {
      "name": "Untitled2.ipynb",
      "version": "0.3.2",
      "provenance": [],
      "include_colab_link": true
    },
    "kernelspec": {
      "name": "python3",
      "display_name": "Python 3"
    },
    "accelerator": "GPU"
  },
  "cells": [
    {
      "cell_type": "markdown",
      "metadata": {
        "id": "view-in-github",
        "colab_type": "text"
      },
      "source": [
        "<a href=\"https://colab.research.google.com/github/umayu06/Object-Detection/blob/master/digi-recog.ipynb\" target=\"_parent\"><img src=\"https://colab.research.google.com/assets/colab-badge.svg\" alt=\"Open In Colab\"/></a>"
      ]
    },
    {
      "cell_type": "code",
      "metadata": {
        "id": "2CLfVtIOzZFC",
        "colab_type": "code",
        "colab": {}
      },
      "source": [
        "from keras.datasets import mnist\n",
        "(X_train, y_train), (X_test, y_test) = mnist.load_data()"
      ],
      "execution_count": 0,
      "outputs": []
    },
    {
      "cell_type": "code",
      "metadata": {
        "id": "V2sLoq2x1_eM",
        "colab_type": "code",
        "outputId": "fedaa05f-7dd6-43ab-cdba-1bb031e89b74",
        "colab": {
          "base_uri": "https://localhost:8080/",
          "height": 286
        }
      },
      "source": [
        "import matplotlib.pyplot as plt\n",
        "plt.imshow(X_train[1])"
      ],
      "execution_count": 0,
      "outputs": [
        {
          "output_type": "execute_result",
          "data": {
            "text/plain": [
              "<matplotlib.image.AxesImage at 0x7f360c0794a8>"
            ]
          },
          "metadata": {
            "tags": []
          },
          "execution_count": 81
        },
        {
          "output_type": "display_data",
          "data": {
            "image/png": "[encoded data removed]",
            "text/plain": [
              "<Figure size 432x288 with 1 Axes>"
            ]
          },
          "metadata": {
            "tags": []
          }
        }
      ]
    },
    {
      "cell_type": "code",
      "metadata": {
        "id": "r3sHq2aT2DuI",
        "colab_type": "code",
        "outputId": "d1e94c99-cf85-4fd9-ce9f-6608c5b09423",
        "colab": {
          "base_uri": "https://localhost:8080/",
          "height": 34
        }
      },
      "source": [
        "X_train.shape"
      ],
      "execution_count": 0,
      "outputs": [
        {
          "output_type": "execute_result",
          "data": {
            "text/plain": [
              "(60000, 28, 28)"
            ]
          },
          "metadata": {
            "tags": []
          },
          "execution_count": 3
        }
      ]
    },
    {
      "cell_type": "code",
      "metadata": {
        "id": "59_DWn2D2Les",
        "colab_type": "code",
        "colab": {}
      },
      "source": [
        "X_train = X_train.reshape(60000,28,28,1)\n",
        "X_test = X_test.reshape(10000,28,28,1)"
      ],
      "execution_count": 0,
      "outputs": []
    },
    {
      "cell_type": "code",
      "metadata": {
        "id": "ixUaLBC1CAkr",
        "colab_type": "code",
        "outputId": "2e79e636-aa73-4c35-d53c-4f35620131e0",
        "colab": {
          "base_uri": "https://localhost:8080/",
          "height": 34
        }
      },
      "source": [
        "from keras.utils import to_categorical#one-hot encode target column\n",
        "y_train = to_categorical(y_train)\n",
        "y_test = to_categorical(y_test)\n",
        "y_train[0] "
      ],
      "execution_count": 0,
      "outputs": [
        {
          "output_type": "execute_result",
          "data": {
            "text/plain": [
              "array([0., 0., 0., 0., 0., 1., 0., 0., 0., 0.], dtype=float32)"
            ]
          },
          "metadata": {
            "tags": []
          },
          "execution_count": 19
        }
      ]
    },
    {
      "cell_type": "code",
      "metadata": {
        "id": "1SYIHO41h27Z",
        "colab_type": "code",
        "colab": {}
      },
      "source": [
        "X_train= X_train.astype('float32')\n",
        "X_test= X_test.astype('float32')\n",
        "\t# normalize to range 0-1\n",
        "X_train = X_train/ 255.0\n",
        "X_test = X_test/ 255.0"
      ],
      "execution_count": 0,
      "outputs": []
    },
    {
      "cell_type": "code",
      "metadata": {
        "id": "a0p63PN1Ct12",
        "colab_type": "code",
        "colab": {}
      },
      "source": [
        "from keras.models import Sequential\n",
        "from keras.layers import Dense, Conv2D, Flatten#create model\n",
        "model = Sequential()#add model layers\n",
        "model.add(Conv2D(64, kernel_size=(3, 3),activation='relu',input_shape=(28,28,1)))\n",
        "#model.add(Conv2D(64, kernel_size=3, activation=’relu’,input_shape=(28,28,1)))\n",
        "model.add(Conv2D(32, kernel_size=3, activation='relu'))\n",
        "model.add(Flatten())\n",
        "model.add(Dense(10, activation='softmax'))\n",
        "model.compile(optimizer='adam', loss='categorical_crossentropy', metrics=['accuracy'])"
      ],
      "execution_count": 0,
      "outputs": []
    },
    {
      "cell_type": "code",
      "metadata": {
        "id": "Ocz4OyDoM5Bz",
        "colab_type": "code",
        "outputId": "8acf144b-bf2f-485f-8290-43f0988e07f2",
        "colab": {
          "base_uri": "https://localhost:8080/",
          "height": 159
        }
      },
      "source": [
        "history=model.fit(X_train, y_train, validation_data=(X_test, y_test), epochs=3)"
      ],
      "execution_count": 0,
      "outputs": [
        {
          "output_type": "stream",
          "text": [
            "Train on 60000 samples, validate on 10000 samples\n",
            "Epoch 1/3\n",
            "60000/60000 [==============================] - 8s 139us/step - loss: 0.0205 - acc: 0.9933 - val_loss: 0.0466 - val_acc: 0.9871\n",
            "Epoch 2/3\n",
            "60000/60000 [==============================] - 8s 138us/step - loss: 0.0138 - acc: 0.9956 - val_loss: 0.0442 - val_acc: 0.9871\n",
            "Epoch 3/3\n",
            "60000/60000 [==============================] - 8s 136us/step - loss: 0.0100 - acc: 0.9967 - val_loss: 0.0564 - val_acc: 0.9859\n"
          ],
          "name": "stdout"
        }
      ]
    },
    {
      "cell_type": "code",
      "metadata": {
        "id": "8LYkvm5DhXg9",
        "colab_type": "code",
        "outputId": "b11313a3-e67d-42e4-ce58-7b88f827e023",
        "colab": {
          "base_uri": "https://localhost:8080/",
          "height": 34
        }
      },
      "source": [
        "acc = model.evaluate(X_test, y_test, verbose=0)\n",
        "print(acc[1]*100)\n"
      ],
      "execution_count": 0,
      "outputs": [
        {
          "output_type": "stream",
          "text": [
            "98.59\n"
          ],
          "name": "stdout"
        }
      ]
    },
    {
      "cell_type": "code",
      "metadata": {
        "id": "G9wkWFY_PbL8",
        "colab_type": "code",
        "outputId": "d7e7a4d6-79af-4398-fd56-a6826531ee5a",
        "colab": {
          "base_uri": "https://localhost:8080/",
          "height": 225
        }
      },
      "source": [
        "model.predict(X_test[:4])"
      ],
      "execution_count": 0,
      "outputs": [
        {
          "output_type": "execute_result",
          "data": {
            "text/plain": [
              "array([[1.4618791e-11, 2.0534964e-10, 1.9163370e-07, 2.9543069e-06,\n",
              "        1.2671926e-13, 1.3094119e-09, 5.9200133e-16, 9.9999607e-01,\n",
              "        9.7305417e-09, 7.6758596e-07],\n",
              "       [8.6530036e-08, 1.9445704e-06, 9.9979144e-01, 6.8610295e-10,\n",
              "        1.6499858e-10, 1.6411519e-12, 2.0649841e-04, 1.1037687e-13,\n",
              "        5.7787403e-08, 3.4476196e-14],\n",
              "       [1.7921525e-06, 9.9716562e-01, 7.4192707e-05, 1.0536436e-06,\n",
              "        2.1947208e-03, 8.2833212e-06, 1.0211139e-05, 4.7734208e-04,\n",
              "        6.5447493e-05, 1.3502781e-06],\n",
              "       [9.9792910e-01, 3.3289616e-10, 6.9581851e-04, 9.7397175e-09,\n",
              "        3.7484754e-06, 2.0196251e-07, 1.2665772e-03, 9.4148226e-07,\n",
              "        6.8018744e-06, 9.6828357e-05]], dtype=float32)"
            ]
          },
          "metadata": {
            "tags": []
          },
          "execution_count": 26
        }
      ]
    },
    {
      "cell_type": "code",
      "metadata": {
        "id": "tk4czgxwRvQ-",
        "colab_type": "code",
        "outputId": "2558252a-a867-43ed-e56e-20b3bde40e08",
        "colab": {
          "base_uri": "https://localhost:8080/",
          "height": 573
        }
      },
      "source": [
        "import matplotlib.pyplot as plt\n",
        "\n",
        "#history = model.fit(trainX, trainY, validation_split=0.25, epochs=50, batch_size=32, verbose=0)\n",
        "\n",
        "# Plot training & validation accuracy values\n",
        "plt.plot(history.history['acc'])\n",
        "plt.plot(history.history['val_acc'])\n",
        "plt.title('Model accuracy')\n",
        "plt.ylabel('Accuracy')\n",
        "plt.xlabel('Epoch')\n",
        "plt.legend(['Train', 'Test'], loc='upper left')\n",
        "plt.show()\n",
        "\n",
        "# Plot training & validation loss values\n",
        "plt.plot(history.history['loss'])\n",
        "plt.plot(history.history['val_loss'])\n",
        "plt.title('Model loss')\n",
        "plt.ylabel('Loss')\n",
        "plt.xlabel('Epoch')\n",
        "plt.legend(['Train', 'Test'], loc='upper left')\n",
        "plt.show()"
      ],
      "execution_count": 0,
      "outputs": [
        {
          "output_type": "display_data",
          "data": {
            "image/png": "[encoded data removed]",
            "text/plain": [
              "<Figure size 432x288 with 1 Axes>"
            ]
          },
          "metadata": {
            "tags": []
          }
        },
        {
          "output_type": "display_data",
          "data": {
            "image/png": "[encoded data removed]",
            "text/plain": [
              "<Figure size 432x288 with 1 Axes>"
            ]
          },
          "metadata": {
            "tags": []
          }
        }
      ]
    },
    {
      "cell_type": "markdown",
      "metadata": {
        "id": "m0tfkOaF7c3O",
        "colab_type": "text"
      },
      "source": [
        "https://github.com/mayanksatnalika/transfer_learning/blob/master/transfer.ipynb"
      ]
    },
    {
      "cell_type": "code",
      "metadata": {
        "id": "hnWF_lYj7eh9",
        "colab_type": "code",
        "colab": {}
      },
      "source": [
        "model.save('digirec.h5')"
      ],
      "execution_count": 0,
      "outputs": []
    },
    {
      "cell_type": "code",
      "metadata": {
        "id": "dyOHmpsij8av",
        "colab_type": "code",
        "colab": {}
      },
      "source": [
        "import numpy as np\n",
        "import cv2"
      ],
      "execution_count": 0,
      "outputs": []
    },
    {
      "cell_type": "code",
      "metadata": {
        "id": "L_z5KTP8j-M2",
        "colab_type": "code",
        "outputId": "5d351f8f-2ed8-4f25-801b-10bdae3ad2d9",
        "colab": {
          "base_uri": "https://localhost:8080/",
          "height": 304
        }
      },
      "source": [
        "import keras\n",
        "from keras import backend \n",
        "img=cv2.imread('6.jpg')\n",
        "img = cv2.cvtColor(img, cv2.COLOR_BGR2GRAY)\n",
        "img=cv2.resize(img,(28,28))\n",
        "print(img.shape)\n",
        "plt.imshow(img)\n",
        "img = np.expand_dims(img, axis=0)#to expand the dim of image to 4D \n",
        "img = img.reshape(1,28,28,1)\n",
        "#img=np.squeeze(img) #to reduce the dim of image\n",
        "#img=np.resize(img,(1,28,28,3))\n",
        "print(img.shape)\n"
      ],
      "execution_count": 0,
      "outputs": [
        {
          "output_type": "stream",
          "text": [
            "(28, 28)\n",
            "(1, 28, 28, 1)\n"
          ],
          "name": "stdout"
        },
        {
          "output_type": "display_data",
          "data": {
            "image/png": "[encoded data removed]",
            "text/plain": [
              "<Figure size 432x288 with 1 Axes>"
            ]
          },
          "metadata": {
            "tags": []
          }
        }
      ]
    },
    {
      "cell_type": "code",
      "metadata": {
        "id": "kgoUIciE74DJ",
        "colab_type": "code",
        "colab": {}
      },
      "source": [
        "img=X_train[1]\n",
        "img = img.reshape(1,28,28,1)"
      ],
      "execution_count": 0,
      "outputs": []
    },
    {
      "cell_type": "code",
      "metadata": {
        "id": "cKPXNxQtkFf8",
        "colab_type": "code",
        "outputId": "27da5d0d-1980-4d0a-c92c-bc585083297a",
        "colab": {
          "base_uri": "https://localhost:8080/",
          "height": 302
        }
      },
      "source": [
        "LABEL_NAMES = ['zero','one', 'two', 'three', 'four', 'five', 'six', 'seven', 'eight', 'nine']\n",
        "plt.imshow(np.squeeze(img))\n",
        "\n",
        "#cpu_model = define_model()\n",
        "model.load_weights('./digirec.h5')\n",
        "print(model.predict(img))\n",
        "\n",
        "from matplotlib import pyplot\n",
        "%matplotlib inline\n",
        "\n",
        "\n",
        "def plot_predictions(images, predictions):\n",
        "   \n",
        "    \n",
        "    label = LABEL_NAMES[np.argmax(predictions)]\n",
        "    confidence = np.max(predictions)\n",
        "    pyplot.imshow(images)\n",
        "    pyplot.text(0.5, 0.5, label + '\\n%.3f' % confidence, fontsize=14)\n",
        "\n",
        "   # pyplot.gcf().set_size_inches(8, 8)  \n",
        "\n",
        "plot_predictions(np.squeeze(img), \n",
        "                 model.predict(img))"
      ],
      "execution_count": 0,
      "outputs": [
        {
          "output_type": "stream",
          "text": [
            "[[0. 0. 0. 0. 0. 0. 0. 1. 0. 0.]]\n"
          ],
          "name": "stdout"
        },
        {
          "output_type": "display_data",
          "data": {
            "image/png": "[encoded data removed]",
            "text/plain": [
              "<Figure size 432x288 with 1 Axes>"
            ]
          },
          "metadata": {
            "tags": []
          }
        }
      ]
    }
  ]
}