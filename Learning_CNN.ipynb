{
  "nbformat": 4,
  "nbformat_minor": 0,
  "metadata": {
    "colab": {
      "name": "Untitled9.ipynb",
      "version": "0.3.2",
      "provenance": [],
      "include_colab_link": true
    },
    "kernelspec": {
      "name": "python3",
      "display_name": "Python 3"
    }
  },
  "cells": [
    {
      "cell_type": "markdown",
      "metadata": {
        "id": "view-in-github",
        "colab_type": "text"
      },
      "source": [
        "<a href=\"https://colab.research.google.com/github/umayu06/Object-Detection/blob/master/Learning_CNN.ipynb\" target=\"_parent\"><img src=\"https://colab.research.google.com/assets/colab-badge.svg\" alt=\"Open In Colab\"/></a>"
      ]
    },
    {
      "cell_type": "markdown",
      "metadata": {
        "id": "WS8pPPRv-Hma",
        "colab_type": "text"
      },
      "source": [
        "# CONVOLUTIONAL  NEURAL NETWORK\n",
        "\n",
        "\n"
      ]
    },
    {
      "cell_type": "markdown",
      "metadata": {
        "id": "9OOW9Jz0-bwx",
        "colab_type": "text"
      },
      "source": [
        "\n",
        "\n",
        "*   deep learning algorithm\n",
        "*   mainly used in computer vision applications\n",
        "*   architecture of a ConvNet is inspired by the organization of the Visual Cortex\n",
        "*   successfully capture the Spatial and Temporal dependencies in an image through the application of relevant filters\n",
        "*   less pre-processing required\n",
        "*   extract the low-level features such as edges, color, etc\n",
        "*   with added layers it can extract high level features\n",
        "\n",
        "\n",
        "\n",
        "\n",
        "\n"
      ]
    },
    {
      "cell_type": "markdown",
      "metadata": {
        "id": "KkPOP7Zs35r3",
        "colab_type": "text"
      },
      "source": [
        "## **Padding**\n",
        "\n",
        "\n",
        "*   Same padding & valid padding\n",
        "*   for keeping the size of convolved feature same, large or small  as that of input\n",
        "\n"
      ]
    },
    {
      "cell_type": "markdown",
      "metadata": {
        "id": "aqOSwJQw4kdN",
        "colab_type": "text"
      },
      "source": [
        "## **Pooling Layer**\n",
        "\n",
        "\n",
        "*   reducing the spatial size of the Convolved feature\n",
        "*   decrease the computational power required to process the data \n",
        "*   **Max Pooling** returns the maximum value from the portion of the image covered by the Kernel\n",
        "*  **Average Pooling** returns the average of all the values from the portion of the image covered by the Kernel\n",
        "*   Max pooling performs denoising and is better than Average pooling\n",
        "\n",
        "\n",
        "\n",
        "\n",
        "\n",
        "\n"
      ]
    },
    {
      "cell_type": "markdown",
      "metadata": {
        "id": "V3Ae1NBUA6y7",
        "colab_type": "text"
      },
      "source": [
        "## **Classification — Fully Connected Layer (FC Layer)**\n",
        "\n",
        "\n",
        "*   cheap way of learning non-linear combinations of the high-level features\n",
        "*   flatten the image into a column vector\n",
        "*   The flattened output is fed to a feed-forward neural network and backpropagation applied to every iteration of training\n",
        "*   the model is able to distinguish between dominating and certain low-level features in images \n",
        "*   classify them using the Softmax Classification technique\n"
      ]
    },
    {
      "cell_type": "markdown",
      "metadata": {
        "id": "bXnvrryiGAxh",
        "colab_type": "text"
      },
      "source": [
        "**various architectures of CNNs available**\n",
        "\n",
        "    LeNet\n",
        "    AlexNet\n",
        "    VGGNet\n",
        "    GoogLeNet\n",
        "    ResNet\n",
        "    ZFNet"
      ]
    },
    {
      "cell_type": "markdown",
      "metadata": {
        "id": "mS8ZgLCpGuPv",
        "colab_type": "text"
      },
      "source": [
        "Reference: https://towardsdatascience.com/a-comprehensive-guide-to-convolutional-neural-networks-the-eli5-way-3bd2b1164a53"
      ]
    }
  ]
}
