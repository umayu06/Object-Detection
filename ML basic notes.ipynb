{
  "nbformat": 4,
  "nbformat_minor": 0,
  "metadata": {
    "colab": {
      "name": "Untitled8.ipynb",
      "version": "0.3.2",
      "provenance": [],
      "include_colab_link": true
    },
    "kernelspec": {
      "name": "python3",
      "display_name": "Python 3"
    }
  },
  "cells": [
    {
      "cell_type": "markdown",
      "metadata": {
        "id": "view-in-github",
        "colab_type": "text"
      },
      "source": [
        "<a href=\"https://colab.research.google.com/github/umayu06/Object-Detection/blob/master/ML%20basic%20notes.ipynb\" target=\"_parent\"><img src=\"https://colab.research.google.com/assets/colab-badge.svg\" alt=\"Open In Colab\"/></a>"
      ]
    },
    {
      "cell_type": "code",
      "metadata": {
        "id": "QytjSeSsgqtm",
        "colab_type": "code",
        "colab": {}
      },
      "source": [
        ""
      ],
      "execution_count": 0,
      "outputs": []
    },
    {
      "cell_type": "markdown",
      "metadata": {
        "id": "e-NZZKcdhbBN",
        "colab_type": "text"
      },
      "source": [
        "\n",
        "\n",
        "---\n",
        "\n",
        "\n",
        "\n",
        "# **Machine Learning**\n",
        "\n",
        "\n",
        "---\n",
        "\n",
        "\n",
        "\n",
        "\n",
        "\n"
      ]
    },
    {
      "cell_type": "markdown",
      "metadata": {
        "id": "WVoJWH98hoYf",
        "colab_type": "text"
      },
      "source": [
        "## **Supervised**\n",
        "Obtaining a learning algorithm from labeled data."
      ]
    },
    {
      "cell_type": "markdown",
      "metadata": {
        "id": "dw2ST0VGiCgT",
        "colab_type": "text"
      },
      "source": [
        "\n",
        "\n",
        "*   Regression : has continues labels\n",
        "     \n",
        "     eg: housing prices\n",
        "*   Classification :has discrete labels\n",
        "     \n",
        "     eg: whether an e-mail is spam or not\n",
        "\n"
      ]
    },
    {
      "cell_type": "markdown",
      "metadata": {
        "id": "FDiODjlojBxw",
        "colab_type": "text"
      },
      "source": [
        "\n",
        "## **Types of Regression**\n",
        "\n",
        "\n",
        "*   Linear Regression: Y=a+b*X + e\n",
        "*   Logistic regression:  Y=1 / (1 + e^-(theta'*X))\n",
        "*   Polynomial Regression: Y=a+b*X^2\n",
        "*   Ridge Regression: technique used when the data suffers from multicollinearity\n",
        "\n",
        "\n",
        "\n"
      ]
    },
    {
      "cell_type": "markdown",
      "metadata": {
        "id": "V49s73nNL6nE",
        "colab_type": "text"
      },
      "source": [
        "## **Types of Classification**\n",
        "\n",
        "\n",
        "\n",
        "*   Support Vector Machine: \n",
        "*   List item\n",
        "\n"
      ]
    }
  ]
}