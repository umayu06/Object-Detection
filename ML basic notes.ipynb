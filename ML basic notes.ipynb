{
  "nbformat": 4,
  "nbformat_minor": 0,
  "metadata": {
    "colab": {
      "name": "Untitled8.ipynb",
      "version": "0.3.2",
      "provenance": [],
      "include_colab_link": true
    },
    "kernelspec": {
      "name": "python3",
      "display_name": "Python 3"
    }
  },
  "cells": [
    {
      "cell_type": "markdown",
      "metadata": {
        "id": "view-in-github",
        "colab_type": "text"
      },
      "source": [
        "<a href=\"https://colab.research.google.com/github/umayu06/Object-Detection/blob/master/ML%20basic%20notes.ipynb\" target=\"_parent\"><img src=\"https://colab.research.google.com/assets/colab-badge.svg\" alt=\"Open In Colab\"/></a>"
      ]
    },
    {
      "cell_type": "code",
      "metadata": {
        "id": "QytjSeSsgqtm",
        "colab_type": "code",
        "colab": {}
      },
      "source": [
        ""
      ],
      "execution_count": 0,
      "outputs": []
    },
    {
      "cell_type": "markdown",
      "metadata": {
        "id": "e-NZZKcdhbBN",
        "colab_type": "text"
      },
      "source": [
        "\n",
        "\n",
        "---\n",
        "\n",
        "\n",
        "\n",
        "# **Machine Learning**\n",
        "\n",
        "\n",
        "---\n",
        "\n",
        "\n",
        "\n",
        "\n",
        "\n"
      ]
    },
    {
      "cell_type": "markdown",
      "metadata": {
        "id": "WVoJWH98hoYf",
        "colab_type": "text"
      },
      "source": [
        "## **Supervised**\n",
        "Obtaining a learning algorithm from labeled data."
      ]
    },
    {
      "cell_type": "markdown",
      "metadata": {
        "id": "dw2ST0VGiCgT",
        "colab_type": "text"
      },
      "source": [
        "\n",
        "\n",
        "*   Regression : has continues labels\n",
        "     \n",
        "     eg: housing prices\n",
        "*   Classification :has discrete labels\n",
        "     \n",
        "     eg: whether an e-mail is spam or not\n",
        "\n"
      ]
    },
    {
      "cell_type": "markdown",
      "metadata": {
        "id": "FDiODjlojBxw",
        "colab_type": "text"
      },
      "source": [
        "\n",
        "## **Types of Regression**\n",
        "\n",
        "\n",
        "*   Linear Regression: Y=a+b*X + e\n",
        "*   Polynomial Regression: Y=a+b*X^2\n",
        "*   Ridge Regression: technique used when the data suffers from multicollinearity\n",
        "\n",
        "\n",
        "\n"
      ]
    },
    {
      "cell_type": "markdown",
      "metadata": {
        "id": "V49s73nNL6nE",
        "colab_type": "text"
      },
      "source": [
        "## **Types of Classification**\n",
        "\n",
        "\n",
        "\n",
        "*   Support Vector Machine:  hyperplane in an N-dimensional space(N — the number of features) that distinctly classifies the data points.\n",
        "*  Logistic regression: Y=1 / (1 + e^-(theta'*X))\n",
        "*   Decision tree: implicitly perform variable screening or feature selection.\n",
        "Can handle both numerical and categorical data. Can also handle multi-output problems. Overfitting.\n",
        "*   \n",
        "\n",
        "\n",
        "\n"
      ]
    },
    {
      "cell_type": "markdown",
      "metadata": {
        "id": "fFDXIlP0R6ER",
        "colab_type": "text"
      },
      "source": [
        "## **Unsupervised**\n",
        "\n",
        "\n",
        "*   learns from test data that has not been labeled\n",
        "*   commonalities in the data and reacts based on the presence or absence of such commonalities in each new piece of data.\n",
        "*   \n",
        "*   List item\n",
        "\n",
        "\n",
        "\n"
      ]
    },
    {
      "cell_type": "markdown",
      "metadata": {
        "id": "dqBiicoVTpTc",
        "colab_type": "text"
      },
      "source": [
        "## **Types of clustering**\n",
        "\n",
        "\n",
        "*   **K-means clustering**:K-means stores k centroids that it uses to define clusters.A point is considered to be in a particular cluster if it is closer to that cluster’s centroid than any other centroid.\n",
        "*   \n",
        "\n"
      ]
    }
  ]
}